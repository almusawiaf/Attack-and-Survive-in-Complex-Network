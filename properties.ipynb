{
 "cells": [
  {
   "cell_type": "code",
   "execution_count": 5,
   "metadata": {},
   "outputs": [
    {
     "data": {
      "text/plain": [
       "[{'name': 'facebook 107',\n",
       "  'path': '/facebook/107.edges',\n",
       "  'graph': <networkx.classes.graph.Graph at 0x7f49c1a7d9d0>}]"
      ]
     },
     "execution_count": 5,
     "metadata": {},
     "output_type": "execute_result"
    }
   ],
   "source": [
    "import pandas as pd \n",
    "import networkx as nx\n",
    "import os\n",
    "import random\n",
    "from random import sample\n",
    "\n",
    "def read_graph2(g, v):\n",
    "    file_name = f'standard networks dataset{datasets[int(g)]}'\n",
    "    G = nx.Graph()\n",
    "    if v=='Karate':\n",
    "        G = nx.karate_club_graph()\n",
    "    elif v=='Erdos Renyi':\n",
    "        # nodes = int(input(\"enter number of nodes?\"))\n",
    "        # edges= int(input(\"enter number of edges?\"))\n",
    "        G = nx.gnm_random_graph(500, 1500)\n",
    "    elif v=='Barabasi_albert_graph':\n",
    "        # nodes = int(input(\"enter number of nodes?\"))\n",
    "        # edges= int(input(\"enter number of edges?\"))\n",
    "        # p = int(input(\"enter P value?\"))\n",
    "        G = nx.barabasi_albert_graph(500, 3)\n",
    "    else:\n",
    "        ext = os.path.splitext(file_name)[1]\n",
    "        if ext=='.edges':\n",
    "            G = nx.read_adjlist(file_name, create_using = nx.Graph(), nodetype = int)\n",
    "        elif ext=='.gml':\n",
    "            G = nx.read_gml(file_name)\n",
    "        elif ext=='.mtx':\n",
    "            G = None\n",
    "            #matrix = scipy.io.mmread(file_name)\n",
    "            #G = nx.from_scipy_sparse_matrix(matrix)\n",
    "        elif ext=='.txt':\n",
    "            file = open(file_name, 'r')\n",
    "            lines=  file.readlines()\n",
    "            G = nx.Graph()\n",
    "            for line in lines:\n",
    "                if \" \" in line:\n",
    "                    N = line.split(\" \")\n",
    "                else:\n",
    "                    N = line.split(\"\\t\")\n",
    "                G.add_edge(N[0], N[1])\n",
    "    return G\n",
    "\n",
    "names = ['facebook 107']\n",
    "datasets = ['/facebook/107.edges']\n",
    "# names = [ 'dolphins',\n",
    "#           'polbooks',\n",
    "#           'word_adjacencies',\n",
    "#           'arenas-email',\n",
    "#              'Karate',\n",
    "#              'Erdos Renyi',\n",
    "# #              'USAir97',\n",
    "#              'circuits s208',\n",
    "#              'circuits s420',\n",
    "#              'circuits s838',\n",
    "#              'E. Coli',\n",
    "#              'Barabasi_albert_graph',\n",
    "#              'facebook 0',\n",
    "#              'facebook 107',\n",
    "#              'facebook 348',\n",
    "#              'facebook 414',\n",
    "#              'facebook 686',\n",
    "#              'facebook 1684',\n",
    "# #              'bio-celegans',\n",
    "#              'bn-macaque-rhesus_brain_2',\n",
    "#              'soc-tribes',\n",
    "#              'fb-pages-food',\n",
    "#              'bn-cat-mixed-species_brain_1',\n",
    "# #              'ca-sandi_auths',\n",
    "#              'soc-firm-hi-tech']\n",
    "\n",
    "# datasets = [ '/dolphins/dolphins.gml',\n",
    "#              '/polbooks/out2.txt',\n",
    "#              '/word_adjacencies.gml/word_adjacencies.gml',\n",
    "#              '/arenas-email/out2.txt',\n",
    "#              'Karate',\n",
    "#              'Erdos Renyi',\n",
    "# #              '/USAir97/USAir97.mtx',\n",
    "#              '/circuits/s208_st.txt',\n",
    "#              '/circuits/s420_st.txt',\n",
    "#              '/circuits/s838_st.txt',\n",
    "#              '/E. Coli/E. Coli.txt',\n",
    "#              'Barabasi_albert_graph',\n",
    "#              '/facebook/0.edges',\n",
    "#              '/facebook/107.edges',\n",
    "#              '/facebook/348.edges',\n",
    "#              '/facebook/414.edges',\n",
    "#              '/facebook/686.edges',\n",
    "#              '/facebook/1684.edges',\n",
    "# #              '/bio-celegans/bio-celegans.mtx',\n",
    "#              '/bn-macaque-rhesus_brain_2/bn-macaque-rhesus_brain_2.txt',\n",
    "#              '/soc-tribes/soc-tribes.txt',\n",
    "#              '/fb-pages-food/fb-pages-food.txt',\n",
    "#              '/bn-cat-mixed-species_brain_1/bn-cat-mixed-species_brain_1.txt',\n",
    "# #              '/ca-sandi_auths/ca-sandi_auths.mtx',\n",
    "#              '/soc-firm-hi-tech/soc-firm-hi-tech.txt']\n",
    "\n",
    "# read the networks\n",
    "networks = []\n",
    "for i,v in enumerate(names):\n",
    "    network = {}\n",
    "    network['name'] = v\n",
    "    network['path'] = datasets[i]\n",
    "    network['graph'] = read_graph2(i, v)\n",
    "    networks.append(network)\n",
    "networks\n",
    "\n"
   ]
  },
  {
   "cell_type": "code",
   "execution_count": 6,
   "metadata": {},
   "outputs": [
    {
     "data": {
      "text/plain": [
       "['facebook 107']"
      ]
     },
     "execution_count": 6,
     "metadata": {},
     "output_type": "execute_result"
    }
   ],
   "source": [
    "names"
   ]
  },
  {
   "cell_type": "code",
   "execution_count": 7,
   "metadata": {},
   "outputs": [
    {
     "data": {
      "text/html": [
       "<div>\n",
       "<style scoped>\n",
       "    .dataframe tbody tr th:only-of-type {\n",
       "        vertical-align: middle;\n",
       "    }\n",
       "\n",
       "    .dataframe tbody tr th {\n",
       "        vertical-align: top;\n",
       "    }\n",
       "\n",
       "    .dataframe thead th {\n",
       "        text-align: right;\n",
       "    }\n",
       "</style>\n",
       "<table border=\"1\" class=\"dataframe\">\n",
       "  <thead>\n",
       "    <tr style=\"text-align: right;\">\n",
       "      <th></th>\n",
       "      <th>Networks</th>\n",
       "      <th>GCC</th>\n",
       "      <th>ACC</th>\n",
       "      <th>Density</th>\n",
       "      <th>r</th>\n",
       "      <th>ASP</th>\n",
       "      <th>Diameter</th>\n",
       "      <th>M</th>\n",
       "      <th>e</th>\n",
       "    </tr>\n",
       "  </thead>\n",
       "  <tbody>\n",
       "    <tr>\n",
       "      <th>0</th>\n",
       "      <td>facebook 107</td>\n",
       "      <td>0.504509</td>\n",
       "      <td>0.526405</td>\n",
       "      <td>0.050086</td>\n",
       "      <td>0.431569</td>\n",
       "      <td>2.951676</td>\n",
       "      <td>9</td>\n",
       "      <td>0.458112</td>\n",
       "      <td>0.385056</td>\n",
       "    </tr>\n",
       "  </tbody>\n",
       "</table>\n",
       "</div>"
      ],
      "text/plain": [
       "       Networks       GCC       ACC   Density         r       ASP  Diameter  \\\n",
       "0  facebook 107  0.504509  0.526405  0.050086  0.431569  2.951676         9   \n",
       "\n",
       "          M         e  \n",
       "0  0.458112  0.385056  "
      ]
     },
     "execution_count": 7,
     "metadata": {},
     "output_type": "execute_result"
    }
   ],
   "source": [
    "from networkx.algorithms.community import greedy_modularity_communities, girvan_newman\n",
    "def properties(G):\n",
    "    \n",
    "    GCC = nx.transitivity(G)\n",
    "    ACC = nx.average_clustering(G)\n",
    "    d = nx.density(G)\n",
    "    r = nx.degree_assortativity_coefficient(G)    \n",
    "    lcg = sorted(nx.connected_components(G), key=len, reverse=True)\n",
    "    LCG = G.subgraph(lcg[0])    \n",
    "    ASP = nx.average_shortest_path_length(LCG)\n",
    "    diam = nx.diameter(LCG)\n",
    "\n",
    "    communities = greedy_modularity_communities(G)\n",
    "    mod = nx.community.modularity(G, communities)\n",
    "    eff = round(nx.global_efficiency(G), 12)\n",
    "    return  GCC, ACC, d, r, ASP, diam, mod, eff\n",
    "\n",
    "network_properties = [properties(g['graph']) for g in networks]\n",
    "\n",
    "GCCs = [i for i, _,_,_,_,_,_,_ in network_properties]\n",
    "ACCs = [i for _, i,_,_,_,_,_,_ in network_properties]\n",
    "ds   = [i for _, _,i,_,_,_,_,_ in network_properties]\n",
    "rs   = [i for _, _,_,i,_,_,_,_ in network_properties]\n",
    "ASPs = [i for _, _,_,_,i,_,_,_ in network_properties]\n",
    "diam = [i for _, _,_,_,_,i,_,_ in network_properties]\n",
    "mod = [i for _, _,_,_,_,_,i,_ in network_properties]\n",
    "eff  = [i for _, _,_,_,_,_,_,i in network_properties]\n",
    "\n",
    "df2 = pd.DataFrame({'Networks': names, \n",
    "                    'GCC': GCCs, \n",
    "                    'ACC': ACCs,\n",
    "                    'Density': ds, \n",
    "                    'r': rs, \n",
    "                    'ASP': ASPs,\n",
    "                    'Diameter': diam, \n",
    "                    'M': mod, \n",
    "                    'e' : eff}) \n",
    "df2"
   ]
  },
  {
   "cell_type": "code",
   "execution_count": 11,
   "metadata": {},
   "outputs": [
    {
     "name": "stdout",
     "output_type": "stream",
     "text": [
      "1034 26749\n"
     ]
    }
   ],
   "source": [
    "for g in networks:\n",
    "    print(len(g['graph']), len(g['graph'].edges()))"
   ]
  }
 ],
 "metadata": {
  "kernelspec": {
   "display_name": "base",
   "language": "python",
   "name": "python3"
  },
  "language_info": {
   "codemirror_mode": {
    "name": "ipython",
    "version": 3
   },
   "file_extension": ".py",
   "mimetype": "text/x-python",
   "name": "python",
   "nbconvert_exporter": "python",
   "pygments_lexer": "ipython3",
   "version": "3.9.12"
  },
  "orig_nbformat": 4
 },
 "nbformat": 4,
 "nbformat_minor": 2
}
